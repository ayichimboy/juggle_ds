{
 "cells": [
  {
   "cell_type": "code",
   "execution_count": 1,
   "id": "9a48c412",
   "metadata": {},
   "outputs": [],
   "source": [
    "# import libraries\n",
    "import numpy as np            \n",
    "import matplotlib.pyplot as plt    \n",
    "import seaborn as sns               \n",
    "import pandas as pd                                  "
   ]
  },
  {
   "cell_type": "code",
   "execution_count": 2,
   "id": "70282e18",
   "metadata": {},
   "outputs": [
    {
     "name": "stdout",
     "output_type": "stream",
     "text": [
      "<class 'pandas.core.frame.DataFrame'>\n",
      "RangeIndex: 39063 entries, 0 to 39062\n",
      "Data columns (total 4 columns):\n",
      " #   Column             Non-Null Count  Dtype  \n",
      "---  ------             --------------  -----  \n",
      " 0   date_time          39063 non-null  object \n",
      " 1   temperature        39058 non-null  float64\n",
      " 2   relative_humidity  39058 non-null  float64\n",
      " 3   dew_point          39058 non-null  float64\n",
      "dtypes: float64(3), object(1)\n",
      "memory usage: 1.2+ MB\n"
     ]
    }
   ],
   "source": [
    "df = pd.read_csv('weather_new.csv')\n",
    "df.info()"
   ]
  },
  {
   "cell_type": "code",
   "execution_count": 6,
   "id": "a1cacf28",
   "metadata": {},
   "outputs": [
    {
     "name": "stdout",
     "output_type": "stream",
     "text": [
      "<class 'pandas.core.frame.DataFrame'>\n",
      "Index: 39058 entries, 0 to 39061\n",
      "Data columns (total 4 columns):\n",
      " #   Column             Non-Null Count  Dtype  \n",
      "---  ------             --------------  -----  \n",
      " 0   date_time          39058 non-null  object \n",
      " 1   temperature        39058 non-null  float64\n",
      " 2   relative_humidity  39058 non-null  float64\n",
      " 3   dew_point          39058 non-null  float64\n",
      "dtypes: float64(3), object(1)\n",
      "memory usage: 1.5+ MB\n"
     ]
    }
   ],
   "source": [
    "# write a function to clean the weather data \n",
    "def clean_weather_data(data):\n",
    "    data = data.dropna()\n",
    "    return data\n",
    "    \n",
    "df_clean = clean_weather_data(df)\n",
    "df_clean.info()"
   ]
  },
  {
   "cell_type": "code",
   "execution_count": 7,
   "id": "24d4cba9",
   "metadata": {},
   "outputs": [
    {
     "data": {
      "text/html": [
       "<div>\n",
       "<style scoped>\n",
       "    .dataframe tbody tr th:only-of-type {\n",
       "        vertical-align: middle;\n",
       "    }\n",
       "\n",
       "    .dataframe tbody tr th {\n",
       "        vertical-align: top;\n",
       "    }\n",
       "\n",
       "    .dataframe thead th {\n",
       "        text-align: right;\n",
       "    }\n",
       "</style>\n",
       "<table border=\"1\" class=\"dataframe\">\n",
       "  <thead>\n",
       "    <tr style=\"text-align: right;\">\n",
       "      <th></th>\n",
       "      <th>date_time</th>\n",
       "      <th>temperature</th>\n",
       "      <th>relative_humidity</th>\n",
       "      <th>dew_point</th>\n",
       "    </tr>\n",
       "  </thead>\n",
       "  <tbody>\n",
       "    <tr>\n",
       "      <th>0</th>\n",
       "      <td>5/3/2023 14:51</td>\n",
       "      <td>75.78</td>\n",
       "      <td>22.96</td>\n",
       "      <td>35.34</td>\n",
       "    </tr>\n",
       "    <tr>\n",
       "      <th>1</th>\n",
       "      <td>5/3/2023 14:56</td>\n",
       "      <td>74.03</td>\n",
       "      <td>24.02</td>\n",
       "      <td>35.01</td>\n",
       "    </tr>\n",
       "    <tr>\n",
       "      <th>2</th>\n",
       "      <td>5/3/2023 15:01</td>\n",
       "      <td>72.86</td>\n",
       "      <td>24.31</td>\n",
       "      <td>34.32</td>\n",
       "    </tr>\n",
       "    <tr>\n",
       "      <th>3</th>\n",
       "      <td>5/3/2023 15:06</td>\n",
       "      <td>72.23</td>\n",
       "      <td>24.91</td>\n",
       "      <td>34.40</td>\n",
       "    </tr>\n",
       "    <tr>\n",
       "      <th>4</th>\n",
       "      <td>5/3/2023 15:11</td>\n",
       "      <td>71.80</td>\n",
       "      <td>25.18</td>\n",
       "      <td>34.30</td>\n",
       "    </tr>\n",
       "  </tbody>\n",
       "</table>\n",
       "</div>"
      ],
      "text/plain": [
       "        date_time  temperature  relative_humidity  dew_point\n",
       "0  5/3/2023 14:51        75.78              22.96      35.34\n",
       "1  5/3/2023 14:56        74.03              24.02      35.01\n",
       "2  5/3/2023 15:01        72.86              24.31      34.32\n",
       "3  5/3/2023 15:06        72.23              24.91      34.40\n",
       "4  5/3/2023 15:11        71.80              25.18      34.30"
      ]
     },
     "execution_count": 7,
     "metadata": {},
     "output_type": "execute_result"
    }
   ],
   "source": [
    "df_clean.head()"
   ]
  }
 ],
 "metadata": {
  "kernelspec": {
   "display_name": ".venv",
   "language": "python",
   "name": "python3"
  },
  "language_info": {
   "codemirror_mode": {
    "name": "ipython",
    "version": 3
   },
   "file_extension": ".py",
   "mimetype": "text/x-python",
   "name": "python",
   "nbconvert_exporter": "python",
   "pygments_lexer": "ipython3",
   "version": "3.11.9"
  }
 },
 "nbformat": 4,
 "nbformat_minor": 5
}
