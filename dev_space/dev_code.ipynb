{
 "cells": [
  {
   "cell_type": "code",
   "execution_count": 1,
   "id": "d236f777",
   "metadata": {},
   "outputs": [],
   "source": [
    "import pandas as pd               \n",
    "import numpy as np\n",
    "import seaborn as sns           \n",
    "import matplotlib.pyplot as plt                       \n"
   ]
  },
  {
   "cell_type": "code",
   "execution_count": 12,
   "id": "f767b1bb",
   "metadata": {},
   "outputs": [
    {
     "name": "stdout",
     "output_type": "stream",
     "text": [
      "[16, 25, 36, 64, 100, 169]\n",
      "[2.0, 2.5, 3.0, 4.0, 5.0, 6.5]\n"
     ]
    }
   ],
   "source": [
    "# create a list \n",
    "my_list = [4, 5, 6, 8, 10, 13]\n",
    "\n",
    "\n",
    "my_list[2:]\n",
    "\n",
    "x = [f**2 for f in my_list]\n",
    "print(x)\n",
    "\n",
    "y = [f/2 for f in my_list]\n",
    "print(y)"
   ]
  },
  {
   "cell_type": "code",
   "execution_count": 14,
   "id": "3d8247e4",
   "metadata": {},
   "outputs": [
    {
     "data": {
      "text/plain": [
       "0     8\n",
       "1    10\n",
       "2    12\n",
       "3    16\n",
       "4    20\n",
       "5    26\n",
       "dtype: int64"
      ]
     },
     "execution_count": 14,
     "metadata": {},
     "output_type": "execute_result"
    }
   ],
   "source": [
    "lambda x: x*2\n",
    "myseries = pd.Series(my_list)\n",
    "myseries.apply(lambda x: x*2)"
   ]
  },
  {
   "cell_type": "code",
   "execution_count": null,
   "id": "88d55870",
   "metadata": {},
   "outputs": [
    {
     "name": "stdout",
     "output_type": "stream",
     "text": [
      "[ 1  2  3  4  5  6  7  8  9 10]\n",
      "[1, 2, 3, 4]\n"
     ]
    },
    {
     "ename": "",
     "evalue": "",
     "output_type": "error",
     "traceback": [
      "\u001b[1;31mThe Kernel crashed while executing code in the current cell or a previous cell. \n",
      "\u001b[1;31mPlease review the code in the cell(s) to identify a possible cause of the failure. \n",
      "\u001b[1;31mClick <a href='https://aka.ms/vscodeJupyterKernelCrash'>here</a> for more info. \n",
      "\u001b[1;31mView Jupyter <a href='command:jupyter.viewOutput'>log</a> for further details."
     ]
    }
   ],
   "source": [
    "numbers = np.arange(1,11)\n",
    "print(numbers)\n",
    "\n",
    "num = numbers.tolist()\n",
    "pp = [n for n in num if n <5]\n",
    "\n",
    "print(pp)"
   ]
  }
 ],
 "metadata": {
  "kernelspec": {
   "display_name": ".venv",
   "language": "python",
   "name": "python3"
  },
  "language_info": {
   "codemirror_mode": {
    "name": "ipython",
    "version": 3
   },
   "file_extension": ".py",
   "mimetype": "text/x-python",
   "name": "python",
   "nbconvert_exporter": "python",
   "pygments_lexer": "ipython3",
   "version": "3.11.9"
  }
 },
 "nbformat": 4,
 "nbformat_minor": 5
}
