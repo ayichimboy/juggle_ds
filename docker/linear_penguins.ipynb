{
 "cells": [
  {
   "cell_type": "code",
   "execution_count": 8,
   "id": "851662c2",
   "metadata": {},
   "outputs": [],
   "source": [
    "# import libraries for the model\n",
    "import pandas as pd       \n",
    "import numpy as np                 \n",
    "import seaborn as sns                \n",
    "import matplotlib.pyplot as plt                \n",
    "from sklearn.linear_model import LinearRegression\n",
    "from sklearn.preprocessing import StandardScaler\n",
    "import pickle\n",
    "import joblib"
   ]
  },
  {
   "cell_type": "code",
   "execution_count": 9,
   "id": "b66f223a",
   "metadata": {},
   "outputs": [
    {
     "name": "stdout",
     "output_type": "stream",
     "text": [
      "<class 'pandas.core.frame.DataFrame'>\n",
      "RangeIndex: 344 entries, 0 to 343\n",
      "Data columns (total 7 columns):\n",
      " #   Column             Non-Null Count  Dtype  \n",
      "---  ------             --------------  -----  \n",
      " 0   species            344 non-null    object \n",
      " 1   island             344 non-null    object \n",
      " 2   bill_length_mm     342 non-null    float64\n",
      " 3   bill_depth_mm      342 non-null    float64\n",
      " 4   flipper_length_mm  342 non-null    float64\n",
      " 5   body_mass_g        342 non-null    float64\n",
      " 6   sex                333 non-null    object \n",
      "dtypes: float64(4), object(3)\n",
      "memory usage: 18.9+ KB\n"
     ]
    }
   ],
   "source": [
    "# read the data for analysis \n",
    "penguins = pd.read_csv('./penguins.csv')\n",
    "penguins.info()"
   ]
  },
  {
   "cell_type": "code",
   "execution_count": 10,
   "id": "29685572",
   "metadata": {},
   "outputs": [
    {
     "name": "stdout",
     "output_type": "stream",
     "text": [
      "<class 'pandas.core.frame.DataFrame'>\n",
      "Index: 333 entries, 0 to 343\n",
      "Data columns (total 7 columns):\n",
      " #   Column             Non-Null Count  Dtype  \n",
      "---  ------             --------------  -----  \n",
      " 0   species            333 non-null    object \n",
      " 1   island             333 non-null    object \n",
      " 2   bill_length_mm     333 non-null    float64\n",
      " 3   bill_depth_mm      333 non-null    float64\n",
      " 4   flipper_length_mm  333 non-null    float64\n",
      " 5   body_mass_g        333 non-null    float64\n",
      " 6   sex                333 non-null    object \n",
      "dtypes: float64(4), object(3)\n",
      "memory usage: 20.8+ KB\n"
     ]
    }
   ],
   "source": [
    "penguins_clean = penguins.dropna()\n",
    "penguins_clean.info()"
   ]
  },
  {
   "cell_type": "code",
   "execution_count": 11,
   "id": "af09ca6a",
   "metadata": {},
   "outputs": [
    {
     "data": {
      "text/plain": [
       "Index(['species', 'island', 'bill_length_mm', 'bill_depth_mm',\n",
       "       'flipper_length_mm', 'body_mass_g', 'sex'],\n",
       "      dtype='object')"
      ]
     },
     "execution_count": 11,
     "metadata": {},
     "output_type": "execute_result"
    }
   ],
   "source": [
    "penguins_clean.columns"
   ]
  },
  {
   "cell_type": "code",
   "execution_count": 12,
   "id": "e41a3eb9",
   "metadata": {},
   "outputs": [],
   "source": [
    "# choose x and y variables\n",
    "X = penguins_clean[['bill_length_mm', 'bill_depth_mm',\n",
    "       'flipper_length_mm']]\n",
    "y = penguins_clean['body_mass_g']\n",
    "\n",
    "# apply standard scaler to X variables\n",
    "scaler = StandardScaler()\n",
    "X = scaler.fit_transform(X)\n",
    "\n",
    "# import linear regression\n",
    "linear_model = LinearRegression()\n",
    "linear_reg = linear_model.fit(X,y)"
   ]
  },
  {
   "cell_type": "code",
   "execution_count": 13,
   "id": "f2d22f07",
   "metadata": {},
   "outputs": [],
   "source": [
    "# use joblib to convert the model into pickle\n",
    "# pickle is a serilized module in python \n",
    "\n",
    "# pickle.dump(linear_reg, open('linear_reg.pkl', 'wb'))\n",
    "joblib.dump(linear_reg, 'linear_reg.pkl')\n",
    "\n",
    "\n",
    "# open('xgboost_model.pkl', 'wb'): opens a file in write-binary mode (wb), ready to store bytes.\n",
    "# pickle.dump(...): writes the entire xgboost_model object to that file in binary format.\n",
    "# xgboost_model.pkl is now a file that contains your trained model and can be shared or deployed.\n",
    "\n",
    "\n",
    "# load the model for prediction - deserilizing the model\n",
    "# loaded_red = pickle.load(open('linear_reg.pkl', 'rb'))\n",
    "model_reg = joblib.load('linear_reg.pkl')\n"
   ]
  },
  {
   "cell_type": "code",
   "execution_count": 14,
   "id": "e12e4a39",
   "metadata": {},
   "outputs": [],
   "source": [
    "# test flask performnace \n",
    "import requests\n",
    "\n",
    "url = \"http://localhost:5000/predict\"\n",
    "\n",
    "data = {\"X\": [50, 35, 14]}\n",
    "\n",
    "response = requests.post(url, json=data)\n",
    "# print(response.json())\n"
   ]
  },
  {
   "cell_type": "code",
   "execution_count": 16,
   "id": "94dd2269",
   "metadata": {},
   "outputs": [
    {
     "name": "stdout",
     "output_type": "stream",
     "text": [
      "{'Penguin_Body_Mass': 16279.192061836173}\n"
     ]
    }
   ],
   "source": [
    "print(response.json())"
   ]
  },
  {
   "cell_type": "code",
   "execution_count": 15,
   "id": "c042584f",
   "metadata": {},
   "outputs": [
    {
     "name": "stdout",
     "output_type": "stream",
     "text": [
      "200\n",
      "{\n",
      "  \"Penguin_Body_Mass\": 16279.192061836173\n",
      "}\n",
      "\n"
     ]
    }
   ],
   "source": [
    "print(response.status_code)\n",
    "print(response.text)"
   ]
  }
 ],
 "metadata": {
  "kernelspec": {
   "display_name": ".venv",
   "language": "python",
   "name": "python3"
  },
  "language_info": {
   "codemirror_mode": {
    "name": "ipython",
    "version": 3
   },
   "file_extension": ".py",
   "mimetype": "text/x-python",
   "name": "python",
   "nbconvert_exporter": "python",
   "pygments_lexer": "ipython3",
   "version": "3.11.9"
  }
 },
 "nbformat": 4,
 "nbformat_minor": 5
}
